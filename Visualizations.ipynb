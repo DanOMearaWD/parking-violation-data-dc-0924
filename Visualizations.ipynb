{
 "cells": [
  {
   "cell_type": "code",
   "execution_count": 3,
   "metadata": {},
   "outputs": [],
   "source": [
    "import sqlite3\n",
    "import pandas as pd"
   ]
  },
  {
   "cell_type": "code",
   "execution_count": 4,
   "metadata": {},
   "outputs": [],
   "source": [
    "# Create a connection to the SQLite database\n",
    "conn = sqlite3.connect('output/geo_data.db')\n",
    "\n",
    "# Execute a SELECT query to retrieve all data from the geo_data table\n",
    "query = 'SELECT * FROM geo_data'\n",
    "\n",
    "# Fetch data into a Pandas DataFrame\n",
    "df = pd.read_sql_query(query, conn)\n",
    "\n",
    "# Close the connection\n",
    "conn.close()"
   ]
  },
  {
   "cell_type": "code",
   "execution_count": 13,
   "metadata": {},
   "outputs": [
    {
     "data": {
      "text/html": [
       "<div>\n",
       "<style scoped>\n",
       "    .dataframe tbody tr th:only-of-type {\n",
       "        vertical-align: middle;\n",
       "    }\n",
       "\n",
       "    .dataframe tbody tr th {\n",
       "        vertical-align: top;\n",
       "    }\n",
       "\n",
       "    .dataframe thead th {\n",
       "        text-align: right;\n",
       "    }\n",
       "</style>\n",
       "<table border=\"1\" class=\"dataframe\">\n",
       "  <thead>\n",
       "    <tr style=\"text-align: right;\">\n",
       "      <th></th>\n",
       "      <th>date</th>\n",
       "      <th>agency_name</th>\n",
       "      <th>violation_code</th>\n",
       "      <th>violation_description</th>\n",
       "      <th>location</th>\n",
       "      <th>fine</th>\n",
       "      <th>paid</th>\n",
       "      <th>penalty</th>\n",
       "      <th>latitude</th>\n",
       "      <th>longitude</th>\n",
       "    </tr>\n",
       "  </thead>\n",
       "  <tbody>\n",
       "    <tr>\n",
       "      <th>0</th>\n",
       "      <td>2024-09-01 10:20:00</td>\n",
       "      <td>US. BUREAU OF ENGRAVING AND PRINTNG</td>\n",
       "      <td>P012</td>\n",
       "      <td>DISOBEYING OFFICIAL SIGN</td>\n",
       "      <td>BLK ES 300 RAOUL WALLENBERG PL SW</td>\n",
       "      <td>30</td>\n",
       "      <td>30</td>\n",
       "      <td>0</td>\n",
       "      <td>38.886</td>\n",
       "      <td>-77.034</td>\n",
       "    </tr>\n",
       "    <tr>\n",
       "      <th>1</th>\n",
       "      <td>2024-09-08 10:51:00</td>\n",
       "      <td>US. BUREAU OF ENGRAVING AND PRINTNG</td>\n",
       "      <td>P170</td>\n",
       "      <td>FAILURE TO DISPLAY CURRENT TAGS</td>\n",
       "      <td>SS 1300 BLK C ST SW</td>\n",
       "      <td>100</td>\n",
       "      <td>0</td>\n",
       "      <td>0</td>\n",
       "      <td>38.886</td>\n",
       "      <td>-77.031</td>\n",
       "    </tr>\n",
       "    <tr>\n",
       "      <th>2</th>\n",
       "      <td>2024-09-08 11:08:00</td>\n",
       "      <td>US. BUREAU OF ENGRAVING AND PRINTNG</td>\n",
       "      <td>P170</td>\n",
       "      <td>FAILURE TO DISPLAY CURRENT TAGS</td>\n",
       "      <td>NS 1300 BLK D ST SW</td>\n",
       "      <td>100</td>\n",
       "      <td>0</td>\n",
       "      <td>0</td>\n",
       "      <td>38.885</td>\n",
       "      <td>-77.031</td>\n",
       "    </tr>\n",
       "    <tr>\n",
       "      <th>3</th>\n",
       "      <td>2024-09-08 11:11:00</td>\n",
       "      <td>US. BUREAU OF ENGRAVING AND PRINTNG</td>\n",
       "      <td>P170</td>\n",
       "      <td>FAILURE TO DISPLAY CURRENT TAGS</td>\n",
       "      <td>NS 1300 BLK D ST SW</td>\n",
       "      <td>100</td>\n",
       "      <td>0</td>\n",
       "      <td>0</td>\n",
       "      <td>38.885</td>\n",
       "      <td>-77.031</td>\n",
       "    </tr>\n",
       "    <tr>\n",
       "      <th>4</th>\n",
       "      <td>2024-09-08 11:13:00</td>\n",
       "      <td>US. BUREAU OF ENGRAVING AND PRINTNG</td>\n",
       "      <td>P170</td>\n",
       "      <td>FAILURE TO DISPLAY CURRENT TAGS</td>\n",
       "      <td>SS 1300 BLK D ST SW</td>\n",
       "      <td>100</td>\n",
       "      <td>0</td>\n",
       "      <td>0</td>\n",
       "      <td>38.885</td>\n",
       "      <td>-77.031</td>\n",
       "    </tr>\n",
       "  </tbody>\n",
       "</table>\n",
       "</div>"
      ],
      "text/plain": [
       "                  date                          agency_name violation_code  \\\n",
       "0  2024-09-01 10:20:00  US. BUREAU OF ENGRAVING AND PRINTNG           P012   \n",
       "1  2024-09-08 10:51:00  US. BUREAU OF ENGRAVING AND PRINTNG           P170   \n",
       "2  2024-09-08 11:08:00  US. BUREAU OF ENGRAVING AND PRINTNG           P170   \n",
       "3  2024-09-08 11:11:00  US. BUREAU OF ENGRAVING AND PRINTNG           P170   \n",
       "4  2024-09-08 11:13:00  US. BUREAU OF ENGRAVING AND PRINTNG           P170   \n",
       "\n",
       "             violation_description                           location  fine  \\\n",
       "0         DISOBEYING OFFICIAL SIGN  BLK ES 300 RAOUL WALLENBERG PL SW    30   \n",
       "1  FAILURE TO DISPLAY CURRENT TAGS                SS 1300 BLK C ST SW   100   \n",
       "2  FAILURE TO DISPLAY CURRENT TAGS                NS 1300 BLK D ST SW   100   \n",
       "3  FAILURE TO DISPLAY CURRENT TAGS                NS 1300 BLK D ST SW   100   \n",
       "4  FAILURE TO DISPLAY CURRENT TAGS                SS 1300 BLK D ST SW   100   \n",
       "\n",
       "   paid  penalty  latitude  longitude  \n",
       "0    30        0    38.886    -77.034  \n",
       "1     0        0    38.886    -77.031  \n",
       "2     0        0    38.885    -77.031  \n",
       "3     0        0    38.885    -77.031  \n",
       "4     0        0    38.885    -77.031  "
      ]
     },
     "execution_count": 13,
     "metadata": {},
     "output_type": "execute_result"
    }
   ],
   "source": [
    "df.head()"
   ]
  },
  {
   "cell_type": "code",
   "execution_count": 14,
   "metadata": {},
   "outputs": [
    {
     "data": {
      "text/plain": [
       "agency_name\n",
       "DEPARTMENT OF PUBLIC WORKS             90535\n",
       "DDOT                                    2103\n",
       "METROPOLITAN POLICE DPT-DISTRICT 1       498\n",
       "UNITED STATES CAPITOL POLICE             334\n",
       "TAXI COMMISSION                          252\n",
       "METROPOLITAN POLICE DPT-DISTRICT 3       187\n",
       "METROPOLITAN POLICE DPT-DISTRICT 2       132\n",
       "METROPOLITAN POLICE DPT-DISTRICT 4       113\n",
       "METROPOLITAN POLICE DPT-DISTRICT 5        93\n",
       "METRO POLICE                              88\n",
       "SPECIAL OPERATION DIV & TRAFFIC DIV       52\n",
       "US. BUREAU OF ENGRAVING AND PRINTNG       48\n",
       "METROPOLITAN POLICE DPT-DISTRICT 6        45\n",
       "METROPOLITAN POLICE DPT-DISTRICT 7        21\n",
       "UNVRSTY OF THE D.C. SECURITY POLICE       20\n",
       "US. SECRET SERVICE UNIFORM DIVISION       18\n",
       "UNITED STATES PARK POLICE                 15\n",
       "MPD RESERVE CORPS                          7\n",
       "PROTECTIVE SERVICES DEPT (DC GOVT)         5\n",
       "METRO POLICE DPT-PROPERTY DIVISION         4\n",
       "FEDERAL PROTECTIVE SERVICES (US GV)        3\n",
       "U.S. NATIONAL ZOOLOGICAL POLICE            3\n",
       "NO AGENCY                                  3\n",
       "OPERATIONS COMMAND                         3\n",
       "DPT. OF GENERAL SERVICES GUARDS            3\n",
       "FBI                                        2\n",
       "COMMAND INFORMATION CENTER                 1\n",
       "ST.ELZBETH HOSPITAL SECURITY GUARDS        1\n",
       "Name: count, dtype: int64"
      ]
     },
     "execution_count": 14,
     "metadata": {},
     "output_type": "execute_result"
    }
   ],
   "source": [
    "df['agency_name'].value_counts()"
   ]
  },
  {
   "cell_type": "code",
   "execution_count": 16,
   "metadata": {},
   "outputs": [
    {
     "data": {
      "text/plain": [
       "violation_description\n",
       "FAIL TO DISPLAY A MULTISPACE METER RECEIPT            12458\n",
       "DISOBEYING OFFICIAL SIGN                               8781\n",
       "NO PARKING STREET CLEANING                             8701\n",
       "FAILURE TO DISPLAY CURRENT TAGS                        8204\n",
       "NO PARKING ANYTIME                                     5678\n",
       "                                                      ...  \n",
       "UNSAFE MECHANICAL CONDITION                               1\n",
       "FAIL TO LOCK AND REMOVE KEY FROM IGNITION WHEN PKD        1\n",
       "TINTED WINDOWS , FAIL TO COMPLY 1ST                       1\n",
       "FAIL TO TURN WHEEL TO CURB                                1\n",
       "VALET PARKING/STAGING ZONE                                1\n",
       "Name: count, Length: 122, dtype: int64"
      ]
     },
     "execution_count": 16,
     "metadata": {},
     "output_type": "execute_result"
    }
   ],
   "source": [
    "df['violation_description'].value_counts()"
   ]
  },
  {
   "cell_type": "code",
   "execution_count": 17,
   "metadata": {},
   "outputs": [
    {
     "data": {
      "text/plain": [
       "location\n",
       "   600 BLOCK MAINE AVE SW NORTH SI*    412\n",
       "   800 BLOCK MAINE AVE SW NORTH SI*    394\n",
       "   600 BLOCK NEW JERSEY AVE SE WES*    310\n",
       "   900 BLOCK 23RD ST NW EAST SIDE      275\n",
       "   200 BLOCK 15TH ST NW EAST SIDE      237\n",
       "                                      ... \n",
       "  2300 BLOCK CHAMPLAIN ST NW NORTH*      1\n",
       "  2000 BLOCK 16TH ST SE EAST SIDE        1\n",
       "  1900 BLOCK BILTMORE ST NW WEST S*      1\n",
       "REAR OF    440 BLOCK 4TH ST NE EAS*      1\n",
       "   400 BLOCK NEW JERSEY AVE SE SOU*      1\n",
       "Name: count, Length: 11253, dtype: int64"
      ]
     },
     "execution_count": 17,
     "metadata": {},
     "output_type": "execute_result"
    }
   ],
   "source": [
    "df['location'].value_counts()"
   ]
  },
  {
   "cell_type": "code",
   "execution_count": 18,
   "metadata": {},
   "outputs": [
    {
     "data": {
      "text/plain": [
       "fine\n",
       "50      29277\n",
       "100     22173\n",
       "30      19945\n",
       "45       8701\n",
       "35       4978\n",
       "25       4040\n",
       "250      2206\n",
       "20       2198\n",
       "65        798\n",
       "150       145\n",
       "60         82\n",
       "0          21\n",
       "1000       14\n",
       "500         5\n",
       "10          4\n",
       "5           2\n",
       "Name: count, dtype: int64"
      ]
     },
     "execution_count": 18,
     "metadata": {},
     "output_type": "execute_result"
    }
   ],
   "source": [
    "df['fine'].value_counts()"
   ]
  },
  {
   "cell_type": "code",
   "execution_count": 19,
   "metadata": {},
   "outputs": [
    {
     "data": {
      "text/plain": [
       "paid\n",
       "0      59003\n",
       "50      9959\n",
       "30      8350\n",
       "100     6475\n",
       "45      4132\n",
       "35      2269\n",
       "25      1854\n",
       "20       984\n",
       "65       455\n",
       "250      390\n",
       "60       273\n",
       "200      193\n",
       "90        91\n",
       "150       56\n",
       "70        43\n",
       "40        25\n",
       "130       15\n",
       "15         6\n",
       "500        5\n",
       "10         3\n",
       "120        3\n",
       "5          3\n",
       "75         1\n",
       "300        1\n",
       "Name: count, dtype: int64"
      ]
     },
     "execution_count": 19,
     "metadata": {},
     "output_type": "execute_result"
    }
   ],
   "source": [
    "df['paid'].value_counts()"
   ]
  },
  {
   "cell_type": "code",
   "execution_count": 20,
   "metadata": {},
   "outputs": [
    {
     "data": {
      "text/plain": [
       "penalty\n",
       "0       73766\n",
       "50       6561\n",
       "100      5653\n",
       "30       4179\n",
       "45       1500\n",
       "35       1001\n",
       "25        806\n",
       "250       526\n",
       "20        429\n",
       "65        113\n",
       "150        27\n",
       "60         23\n",
       "1000        3\n",
       "500         1\n",
       "5           1\n",
       "Name: count, dtype: int64"
      ]
     },
     "execution_count": 20,
     "metadata": {},
     "output_type": "execute_result"
    }
   ],
   "source": [
    "df['penalty'].value_counts()"
   ]
  }
 ],
 "metadata": {
  "kernelspec": {
   "display_name": "dev",
   "language": "python",
   "name": "python3"
  },
  "language_info": {
   "codemirror_mode": {
    "name": "ipython",
    "version": 3
   },
   "file_extension": ".py",
   "mimetype": "text/x-python",
   "name": "python",
   "nbconvert_exporter": "python",
   "pygments_lexer": "ipython3",
   "version": "3.10.14"
  }
 },
 "nbformat": 4,
 "nbformat_minor": 2
}
