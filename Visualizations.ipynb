{
 "cells": [
  {
   "cell_type": "code",
   "execution_count": 1,
   "metadata": {},
   "outputs": [],
   "source": [
    "import sqlite3"
   ]
  },
  {
   "cell_type": "code",
   "execution_count": 2,
   "metadata": {},
   "outputs": [
    {
     "name": "stdout",
     "output_type": "stream",
     "text": [
      "94589\n"
     ]
    }
   ],
   "source": [
    "# Create a connection to the SQLite database\n",
    "conn = sqlite3.connect('output/geo_data.db')\n",
    "cursor = conn.cursor()\n",
    "\n",
    "# Execute a SELECT query to retrieve all data from the geo_data table\n",
    "cursor.execute('SELECT * FROM geo_data')\n",
    "\n",
    "# Fetch all rows from the executed query\n",
    "rows = cursor.fetchall()\n",
    "\n",
    "print(len(rows))\n",
    "\n",
    "# Close connection\n",
    "conn.close()"
   ]
  }
 ],
 "metadata": {
  "kernelspec": {
   "display_name": "dev",
   "language": "python",
   "name": "python3"
  },
  "language_info": {
   "codemirror_mode": {
    "name": "ipython",
    "version": 3
   },
   "file_extension": ".py",
   "mimetype": "text/x-python",
   "name": "python",
   "nbconvert_exporter": "python",
   "pygments_lexer": "ipython3",
   "version": "3.10.14"
  }
 },
 "nbformat": 4,
 "nbformat_minor": 2
}
