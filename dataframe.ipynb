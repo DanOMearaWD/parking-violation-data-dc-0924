{
 "cells": [
  {
   "cell_type": "code",
   "execution_count": 91,
   "metadata": {},
   "outputs": [],
   "source": [
    "import geopandas as gpd"
   ]
  },
  {
   "cell_type": "code",
   "execution_count": 80,
   "metadata": {},
   "outputs": [
    {
     "name": "stderr",
     "output_type": "stream",
     "text": [
      "c:\\Users\\james\\Anaconda3\\envs\\dev\\lib\\site-packages\\geopandas\\io\\file.py:399: FutureWarning: errors='ignore' is deprecated and will raise in a future version. Use to_datetime without passing `errors` and catch exceptions explicitly instead\n",
      "  as_dt = pd.to_datetime(df[k], errors=\"ignore\")\n",
      "c:\\Users\\james\\Anaconda3\\envs\\dev\\lib\\site-packages\\geopandas\\io\\file.py:399: FutureWarning: errors='ignore' is deprecated and will raise in a future version. Use to_datetime without passing `errors` and catch exceptions explicitly instead\n",
      "  as_dt = pd.to_datetime(df[k], errors=\"ignore\")\n",
      "c:\\Users\\james\\Anaconda3\\envs\\dev\\lib\\site-packages\\geopandas\\io\\file.py:399: FutureWarning: errors='ignore' is deprecated and will raise in a future version. Use to_datetime without passing `errors` and catch exceptions explicitly instead\n",
      "  as_dt = pd.to_datetime(df[k], errors=\"ignore\")\n"
     ]
    }
   ],
   "source": [
    "# Load GeoJSON file\n",
    "gdf = gpd.read_file(\"Parking_Violations_Issued_in_September_2024_original.geojson\")"
   ]
  },
  {
   "cell_type": "code",
   "execution_count": 92,
   "metadata": {},
   "outputs": [
    {
     "data": {
      "text/html": [
       "<div>\n",
       "<style scoped>\n",
       "    .dataframe tbody tr th:only-of-type {\n",
       "        vertical-align: middle;\n",
       "    }\n",
       "\n",
       "    .dataframe tbody tr th {\n",
       "        vertical-align: top;\n",
       "    }\n",
       "\n",
       "    .dataframe thead th {\n",
       "        text-align: right;\n",
       "    }\n",
       "</style>\n",
       "<table border=\"1\" class=\"dataframe\">\n",
       "  <thead>\n",
       "    <tr style=\"text-align: right;\">\n",
       "      <th></th>\n",
       "      <th>OBJECTID</th>\n",
       "      <th>TICKET_NUMBER</th>\n",
       "      <th>VIOLATION_TYPE_DESC</th>\n",
       "      <th>ISSUE_DATE</th>\n",
       "      <th>ISSUE_TIME</th>\n",
       "      <th>ISSUING_AGENCY_CODE</th>\n",
       "      <th>ISSUING_AGENCY_NAME</th>\n",
       "      <th>ISSUING_AGENCY_SHORT</th>\n",
       "      <th>VIOLATION_CODE</th>\n",
       "      <th>VIOLATION_PROC_DESC</th>\n",
       "      <th>...</th>\n",
       "      <th>PENALTY_3</th>\n",
       "      <th>PENALTY_4</th>\n",
       "      <th>PENALTY_5</th>\n",
       "      <th>XCOORD</th>\n",
       "      <th>YCOORD</th>\n",
       "      <th>LATITUDE</th>\n",
       "      <th>LONGITUDE</th>\n",
       "      <th>MAR_ID</th>\n",
       "      <th>GIS_LAST_MOD_DTTM</th>\n",
       "      <th>geometry</th>\n",
       "    </tr>\n",
       "  </thead>\n",
       "  <tbody>\n",
       "    <tr>\n",
       "      <th>0</th>\n",
       "      <td>83487425</td>\n",
       "      <td>260566401</td>\n",
       "      <td>P</td>\n",
       "      <td>2024-09-05 04:00:00+00:00</td>\n",
       "      <td>657</td>\n",
       "      <td>54</td>\n",
       "      <td>ST.ELZBETH HOSPITAL SECURITY GUARDS</td>\n",
       "      <td>SEH</td>\n",
       "      <td>P170</td>\n",
       "      <td>FAILURE TO DISPLAY CURRENT TAGS</td>\n",
       "      <td>...</td>\n",
       "      <td>0</td>\n",
       "      <td>0</td>\n",
       "      <td>0</td>\n",
       "      <td>NaN</td>\n",
       "      <td>NaN</td>\n",
       "      <td>NaN</td>\n",
       "      <td>NaN</td>\n",
       "      <td>NaN</td>\n",
       "      <td>2024-10-16 14:04:18+00:00</td>\n",
       "      <td>None</td>\n",
       "    </tr>\n",
       "    <tr>\n",
       "      <th>1</th>\n",
       "      <td>83487426</td>\n",
       "      <td>266969312</td>\n",
       "      <td>P</td>\n",
       "      <td>2024-09-18 04:00:00+00:00</td>\n",
       "      <td>133</td>\n",
       "      <td>59</td>\n",
       "      <td>US. BUREAU OF ENGRAVING AND PRINTNG</td>\n",
       "      <td>BEP</td>\n",
       "      <td>P055</td>\n",
       "      <td>NO PARKING ANYTIME</td>\n",
       "      <td>...</td>\n",
       "      <td>0</td>\n",
       "      <td>0</td>\n",
       "      <td>0</td>\n",
       "      <td>NaN</td>\n",
       "      <td>NaN</td>\n",
       "      <td>NaN</td>\n",
       "      <td>NaN</td>\n",
       "      <td>NaN</td>\n",
       "      <td>2024-10-16 14:04:18+00:00</td>\n",
       "      <td>None</td>\n",
       "    </tr>\n",
       "    <tr>\n",
       "      <th>2</th>\n",
       "      <td>83487445</td>\n",
       "      <td>266974724</td>\n",
       "      <td>P</td>\n",
       "      <td>2024-09-01 04:00:00+00:00</td>\n",
       "      <td>1020</td>\n",
       "      <td>59</td>\n",
       "      <td>US. BUREAU OF ENGRAVING AND PRINTNG</td>\n",
       "      <td>BEP</td>\n",
       "      <td>P012</td>\n",
       "      <td>DISOBEYING OFFICIAL SIGN</td>\n",
       "      <td>...</td>\n",
       "      <td>0</td>\n",
       "      <td>0</td>\n",
       "      <td>0</td>\n",
       "      <td>397076.780</td>\n",
       "      <td>135370.390</td>\n",
       "      <td>38.886</td>\n",
       "      <td>-77.034</td>\n",
       "      <td>810050.0</td>\n",
       "      <td>2024-10-16 14:04:18+00:00</td>\n",
       "      <td>None</td>\n",
       "    </tr>\n",
       "    <tr>\n",
       "      <th>3</th>\n",
       "      <td>83487446</td>\n",
       "      <td>266974735</td>\n",
       "      <td>P</td>\n",
       "      <td>2024-09-08 04:00:00+00:00</td>\n",
       "      <td>1051</td>\n",
       "      <td>59</td>\n",
       "      <td>US. BUREAU OF ENGRAVING AND PRINTNG</td>\n",
       "      <td>BEP</td>\n",
       "      <td>P170</td>\n",
       "      <td>FAILURE TO DISPLAY CURRENT TAGS</td>\n",
       "      <td>...</td>\n",
       "      <td>0</td>\n",
       "      <td>0</td>\n",
       "      <td>0</td>\n",
       "      <td>397328.708</td>\n",
       "      <td>135348.587</td>\n",
       "      <td>38.886</td>\n",
       "      <td>-77.031</td>\n",
       "      <td>805720.0</td>\n",
       "      <td>2024-10-16 14:04:18+00:00</td>\n",
       "      <td>None</td>\n",
       "    </tr>\n",
       "    <tr>\n",
       "      <th>4</th>\n",
       "      <td>83487447</td>\n",
       "      <td>266974746</td>\n",
       "      <td>P</td>\n",
       "      <td>2024-09-08 04:00:00+00:00</td>\n",
       "      <td>1108</td>\n",
       "      <td>59</td>\n",
       "      <td>US. BUREAU OF ENGRAVING AND PRINTNG</td>\n",
       "      <td>BEP</td>\n",
       "      <td>P170</td>\n",
       "      <td>FAILURE TO DISPLAY CURRENT TAGS</td>\n",
       "      <td>...</td>\n",
       "      <td>0</td>\n",
       "      <td>0</td>\n",
       "      <td>0</td>\n",
       "      <td>397328.637</td>\n",
       "      <td>135237.646</td>\n",
       "      <td>38.885</td>\n",
       "      <td>-77.031</td>\n",
       "      <td>801948.0</td>\n",
       "      <td>2024-10-16 14:04:18+00:00</td>\n",
       "      <td>None</td>\n",
       "    </tr>\n",
       "  </tbody>\n",
       "</table>\n",
       "<p>5 rows × 32 columns</p>\n",
       "</div>"
      ],
      "text/plain": [
       "   OBJECTID TICKET_NUMBER VIOLATION_TYPE_DESC                ISSUE_DATE  \\\n",
       "0  83487425     260566401                   P 2024-09-05 04:00:00+00:00   \n",
       "1  83487426     266969312                   P 2024-09-18 04:00:00+00:00   \n",
       "2  83487445     266974724                   P 2024-09-01 04:00:00+00:00   \n",
       "3  83487446     266974735                   P 2024-09-08 04:00:00+00:00   \n",
       "4  83487447     266974746                   P 2024-09-08 04:00:00+00:00   \n",
       "\n",
       "  ISSUE_TIME  ISSUING_AGENCY_CODE                  ISSUING_AGENCY_NAME  \\\n",
       "0        657                   54  ST.ELZBETH HOSPITAL SECURITY GUARDS   \n",
       "1        133                   59  US. BUREAU OF ENGRAVING AND PRINTNG   \n",
       "2       1020                   59  US. BUREAU OF ENGRAVING AND PRINTNG   \n",
       "3       1051                   59  US. BUREAU OF ENGRAVING AND PRINTNG   \n",
       "4       1108                   59  US. BUREAU OF ENGRAVING AND PRINTNG   \n",
       "\n",
       "  ISSUING_AGENCY_SHORT VIOLATION_CODE              VIOLATION_PROC_DESC  ...  \\\n",
       "0                  SEH           P170  FAILURE TO DISPLAY CURRENT TAGS  ...   \n",
       "1                  BEP           P055               NO PARKING ANYTIME  ...   \n",
       "2                  BEP           P012         DISOBEYING OFFICIAL SIGN  ...   \n",
       "3                  BEP           P170  FAILURE TO DISPLAY CURRENT TAGS  ...   \n",
       "4                  BEP           P170  FAILURE TO DISPLAY CURRENT TAGS  ...   \n",
       "\n",
       "  PENALTY_3 PENALTY_4 PENALTY_5      XCOORD      YCOORD LATITUDE LONGITUDE  \\\n",
       "0         0         0         0         NaN         NaN      NaN       NaN   \n",
       "1         0         0         0         NaN         NaN      NaN       NaN   \n",
       "2         0         0         0  397076.780  135370.390   38.886   -77.034   \n",
       "3         0         0         0  397328.708  135348.587   38.886   -77.031   \n",
       "4         0         0         0  397328.637  135237.646   38.885   -77.031   \n",
       "\n",
       "     MAR_ID         GIS_LAST_MOD_DTTM  geometry  \n",
       "0       NaN 2024-10-16 14:04:18+00:00      None  \n",
       "1       NaN 2024-10-16 14:04:18+00:00      None  \n",
       "2  810050.0 2024-10-16 14:04:18+00:00      None  \n",
       "3  805720.0 2024-10-16 14:04:18+00:00      None  \n",
       "4  801948.0 2024-10-16 14:04:18+00:00      None  \n",
       "\n",
       "[5 rows x 32 columns]"
      ]
     },
     "execution_count": 92,
     "metadata": {},
     "output_type": "execute_result"
    }
   ],
   "source": [
    "gdf.head()"
   ]
  },
  {
   "cell_type": "code",
   "execution_count": 93,
   "metadata": {},
   "outputs": [
    {
     "data": {
      "text/plain": [
       "Index(['OBJECTID', 'TICKET_NUMBER', 'VIOLATION_TYPE_DESC', 'ISSUE_DATE',\n",
       "       'ISSUE_TIME', 'ISSUING_AGENCY_CODE', 'ISSUING_AGENCY_NAME',\n",
       "       'ISSUING_AGENCY_SHORT', 'VIOLATION_CODE', 'VIOLATION_PROC_DESC',\n",
       "       'LOCATION', 'PLATE_STATE', 'VEHICLE_TYPE', 'MULTI_OWNER_NUMBER',\n",
       "       'DISPOSITION_CODE', 'DISPOSITION_TYPE', 'DISPOSITION_DESC',\n",
       "       'DISPOSITION_DATE', 'FINE_AMOUNT', 'TOTAL_PAID', 'PENALTY_1',\n",
       "       'PENALTY_2', 'PENALTY_3', 'PENALTY_4', 'PENALTY_5', 'XCOORD', 'YCOORD',\n",
       "       'LATITUDE', 'LONGITUDE', 'MAR_ID', 'GIS_LAST_MOD_DTTM', 'geometry'],\n",
       "      dtype='object')"
      ]
     },
     "execution_count": 93,
     "metadata": {},
     "output_type": "execute_result"
    }
   ],
   "source": [
    "gdf.columns"
   ]
  },
  {
   "cell_type": "code",
   "execution_count": 118,
   "metadata": {},
   "outputs": [],
   "source": [
    "#Filter columns of interest\n",
    "gdf_filtered = gdf[['ISSUE_DATE','ISSUING_AGENCY_NAME','VIOLATION_CODE','VIOLATION_PROC_DESC','LOCATION','FINE_AMOUNT','TOTAL_PAID','PENALTY_1','LATITUDE','LONGITUDE','geometry']].copy()"
   ]
  },
  {
   "cell_type": "code",
   "execution_count": 104,
   "metadata": {},
   "outputs": [
    {
     "data": {
      "text/html": [
       "<div>\n",
       "<style scoped>\n",
       "    .dataframe tbody tr th:only-of-type {\n",
       "        vertical-align: middle;\n",
       "    }\n",
       "\n",
       "    .dataframe tbody tr th {\n",
       "        vertical-align: top;\n",
       "    }\n",
       "\n",
       "    .dataframe thead th {\n",
       "        text-align: right;\n",
       "    }\n",
       "</style>\n",
       "<table border=\"1\" class=\"dataframe\">\n",
       "  <thead>\n",
       "    <tr style=\"text-align: right;\">\n",
       "      <th></th>\n",
       "      <th>ISSUE_DATE</th>\n",
       "      <th>ISSUING_AGENCY_NAME</th>\n",
       "      <th>VIOLATION_CODE</th>\n",
       "      <th>VIOLATION_PROC_DESC</th>\n",
       "      <th>LOCATION</th>\n",
       "      <th>FINE_AMOUNT</th>\n",
       "      <th>TOTAL_PAID</th>\n",
       "      <th>PENALTY_1</th>\n",
       "      <th>LATITUDE</th>\n",
       "      <th>LONGITUDE</th>\n",
       "      <th>geometry</th>\n",
       "    </tr>\n",
       "  </thead>\n",
       "  <tbody>\n",
       "    <tr>\n",
       "      <th>0</th>\n",
       "      <td>2024-09-05 04:00:00+00:00</td>\n",
       "      <td>ST.ELZBETH HOSPITAL SECURITY GUARDS</td>\n",
       "      <td>P170</td>\n",
       "      <td>FAILURE TO DISPLAY CURRENT TAGS</td>\n",
       "      <td>FRONT NEW HOSPITAL SE</td>\n",
       "      <td>100</td>\n",
       "      <td>0</td>\n",
       "      <td>100</td>\n",
       "      <td>NaN</td>\n",
       "      <td>NaN</td>\n",
       "      <td>None</td>\n",
       "    </tr>\n",
       "    <tr>\n",
       "      <th>1</th>\n",
       "      <td>2024-09-18 04:00:00+00:00</td>\n",
       "      <td>US. BUREAU OF ENGRAVING AND PRINTNG</td>\n",
       "      <td>P055</td>\n",
       "      <td>NO PARKING ANYTIME</td>\n",
       "      <td>ES D STREET SW</td>\n",
       "      <td>30</td>\n",
       "      <td>0</td>\n",
       "      <td>0</td>\n",
       "      <td>NaN</td>\n",
       "      <td>NaN</td>\n",
       "      <td>None</td>\n",
       "    </tr>\n",
       "    <tr>\n",
       "      <th>2</th>\n",
       "      <td>2024-09-01 04:00:00+00:00</td>\n",
       "      <td>US. BUREAU OF ENGRAVING AND PRINTNG</td>\n",
       "      <td>P012</td>\n",
       "      <td>DISOBEYING OFFICIAL SIGN</td>\n",
       "      <td>BLK ES 300 RAOUL WALLENBERG PL SW</td>\n",
       "      <td>30</td>\n",
       "      <td>30</td>\n",
       "      <td>0</td>\n",
       "      <td>38.886</td>\n",
       "      <td>-77.034</td>\n",
       "      <td>None</td>\n",
       "    </tr>\n",
       "    <tr>\n",
       "      <th>3</th>\n",
       "      <td>2024-09-08 04:00:00+00:00</td>\n",
       "      <td>US. BUREAU OF ENGRAVING AND PRINTNG</td>\n",
       "      <td>P170</td>\n",
       "      <td>FAILURE TO DISPLAY CURRENT TAGS</td>\n",
       "      <td>SS 1300 BLK C ST SW</td>\n",
       "      <td>100</td>\n",
       "      <td>0</td>\n",
       "      <td>0</td>\n",
       "      <td>38.886</td>\n",
       "      <td>-77.031</td>\n",
       "      <td>None</td>\n",
       "    </tr>\n",
       "    <tr>\n",
       "      <th>4</th>\n",
       "      <td>2024-09-08 04:00:00+00:00</td>\n",
       "      <td>US. BUREAU OF ENGRAVING AND PRINTNG</td>\n",
       "      <td>P170</td>\n",
       "      <td>FAILURE TO DISPLAY CURRENT TAGS</td>\n",
       "      <td>NS 1300 BLK D ST SW</td>\n",
       "      <td>100</td>\n",
       "      <td>0</td>\n",
       "      <td>0</td>\n",
       "      <td>38.885</td>\n",
       "      <td>-77.031</td>\n",
       "      <td>None</td>\n",
       "    </tr>\n",
       "  </tbody>\n",
       "</table>\n",
       "</div>"
      ],
      "text/plain": [
       "                 ISSUE_DATE                  ISSUING_AGENCY_NAME  \\\n",
       "0 2024-09-05 04:00:00+00:00  ST.ELZBETH HOSPITAL SECURITY GUARDS   \n",
       "1 2024-09-18 04:00:00+00:00  US. BUREAU OF ENGRAVING AND PRINTNG   \n",
       "2 2024-09-01 04:00:00+00:00  US. BUREAU OF ENGRAVING AND PRINTNG   \n",
       "3 2024-09-08 04:00:00+00:00  US. BUREAU OF ENGRAVING AND PRINTNG   \n",
       "4 2024-09-08 04:00:00+00:00  US. BUREAU OF ENGRAVING AND PRINTNG   \n",
       "\n",
       "  VIOLATION_CODE              VIOLATION_PROC_DESC  \\\n",
       "0           P170  FAILURE TO DISPLAY CURRENT TAGS   \n",
       "1           P055               NO PARKING ANYTIME   \n",
       "2           P012         DISOBEYING OFFICIAL SIGN   \n",
       "3           P170  FAILURE TO DISPLAY CURRENT TAGS   \n",
       "4           P170  FAILURE TO DISPLAY CURRENT TAGS   \n",
       "\n",
       "                            LOCATION  FINE_AMOUNT  TOTAL_PAID  PENALTY_1  \\\n",
       "0              FRONT NEW HOSPITAL SE          100           0        100   \n",
       "1                     ES D STREET SW           30           0          0   \n",
       "2  BLK ES 300 RAOUL WALLENBERG PL SW           30          30          0   \n",
       "3                SS 1300 BLK C ST SW          100           0          0   \n",
       "4                NS 1300 BLK D ST SW          100           0          0   \n",
       "\n",
       "   LATITUDE  LONGITUDE geometry  \n",
       "0       NaN        NaN     None  \n",
       "1       NaN        NaN     None  \n",
       "2    38.886    -77.034     None  \n",
       "3    38.886    -77.031     None  \n",
       "4    38.885    -77.031     None  "
      ]
     },
     "execution_count": 104,
     "metadata": {},
     "output_type": "execute_result"
    }
   ],
   "source": [
    "gdf_filtered.head()"
   ]
  },
  {
   "cell_type": "code",
   "execution_count": 119,
   "metadata": {},
   "outputs": [],
   "source": [
    "#Remove rows with null LATITUDE - no additional nulls exist for LONGITUDE column\n",
    "gdf_filtered.dropna(subset=['LATITUDE'], inplace=True)"
   ]
  },
  {
   "cell_type": "code",
   "execution_count": 120,
   "metadata": {},
   "outputs": [
    {
     "data": {
      "text/plain": [
       "0"
      ]
     },
     "execution_count": 120,
     "metadata": {},
     "output_type": "execute_result"
    }
   ],
   "source": [
    "#confirm dropna worked\n",
    "gdf_filtered['LONGITUDE'].isnull().sum()"
   ]
  },
  {
   "cell_type": "code",
   "execution_count": 122,
   "metadata": {},
   "outputs": [],
   "source": [
    "#extract date from datetime column\n",
    "gdf_filtered['ISSUE_DATE'] = gdf_filtered['ISSUE_DATE'].dt.strftime('%Y-%m-%d')"
   ]
  },
  {
   "cell_type": "code",
   "execution_count": 123,
   "metadata": {},
   "outputs": [
    {
     "data": {
      "text/plain": [
       "ISSUE_DATE               object\n",
       "ISSUING_AGENCY_NAME      object\n",
       "VIOLATION_CODE           object\n",
       "VIOLATION_PROC_DESC      object\n",
       "LOCATION                 object\n",
       "FINE_AMOUNT               int64\n",
       "TOTAL_PAID                int64\n",
       "PENALTY_1                 int64\n",
       "LATITUDE                float64\n",
       "LONGITUDE               float64\n",
       "geometry               geometry\n",
       "dtype: object"
      ]
     },
     "execution_count": 123,
     "metadata": {},
     "output_type": "execute_result"
    }
   ],
   "source": [
    "gdf_filtered.dtypes"
   ]
  },
  {
   "cell_type": "code",
   "execution_count": 124,
   "metadata": {},
   "outputs": [
    {
     "name": "stdout",
     "output_type": "stream",
     "text": [
      "True\n"
     ]
    }
   ],
   "source": [
    "# Check if gdf_filtered is a GeoDataFrame\n",
    "print(isinstance(gdf_filtered, gpd.GeoDataFrame))\n",
    "# Export GeoDataFrame to GeoJSON\n",
    "gdf_filtered.to_file(\"Cleaned_Parking_Violations_DC_09_2024.geojson\", driver='GeoJSON')"
   ]
  }
 ],
 "metadata": {
  "kernelspec": {
   "display_name": "dev",
   "language": "python",
   "name": "python3"
  },
  "language_info": {
   "codemirror_mode": {
    "name": "ipython",
    "version": 3
   },
   "file_extension": ".py",
   "mimetype": "text/x-python",
   "name": "python",
   "nbconvert_exporter": "python",
   "pygments_lexer": "ipython3",
   "version": "3.10.14"
  }
 },
 "nbformat": 4,
 "nbformat_minor": 2
}
